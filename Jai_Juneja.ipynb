{
 "cells": [
  {
   "cell_type": "code",
   "execution_count": 6,
   "id": "323b5fce",
   "metadata": {},
   "outputs": [],
   "source": [
    "#question 1\n",
    "def find_pangram(string):\n",
    "    alpha =\"abcdefghijklmnopqrstuvwxyz\"\n",
    "    a = []\n",
    "    i=0\n",
    "    alpha_set = set(alpha)\n",
    "    if len(string) != len(alpha_set):\n",
    "        a = alpha_set - string\n",
    "    else:\n",
    "        return f\"The sentence is pangam \"\n",
    "    return a\n",
    "    "
   ]
  },
  {
   "cell_type": "code",
   "execution_count": 7,
   "id": "7824f76f",
   "metadata": {},
   "outputs": [
    {
     "name": "stdout",
     "output_type": "stream",
     "text": [
      "enter the string:The quick brown Fox Jumps over the\n",
      "Missing letter:  ['a', 'd', 'g', 'l', 'y', 'z']\n"
     ]
    }
   ],
   "source": [
    "string = set(input(\"enter the string:\").lower()) - {' '}\n",
    "# print(len(string))\n",
    "res = str(sorted(find_pangram(string)))\n",
    "print(\"Missing letter: \",res)"
   ]
  },
  {
   "cell_type": "code",
   "execution_count": 80,
   "id": "5be5694c",
   "metadata": {},
   "outputs": [],
   "source": [
    "#---------------------------------------------"
   ]
  },
  {
   "cell_type": "code",
   "execution_count": null,
   "id": "8dbf6cfe",
   "metadata": {},
   "outputs": [],
   "source": [
    "# question 2"
   ]
  },
  {
   "cell_type": "code",
   "execution_count": null,
   "id": "0b512a69",
   "metadata": {},
   "outputs": [],
   "source": [
    "print(\"----------------------\")\n",
    "print(\"----Inventory Data----\")\n",
    "print(\"----------------------\")\n",
    "print(\"----------------------\")\n",
    "print(\"1.Product Name\")\n",
    "print(\"2.Category\")\n",
    "print(\"3.Price\")\n",
    "print(\"4.Quantity\")\n",
    "\n",
    "choice = int(input(\"Enter the choice: \"))\n",
    "\n",
    "if choice == 1:\n",
    "    "
   ]
  },
  {
   "cell_type": "code",
   "execution_count": null,
   "id": "afd7a710",
   "metadata": {},
   "outputs": [],
   "source": [
    "file = open(\"inventory_data.txt\", \"x\")\n",
    "\n",
    "file.realin"
   ]
  }
 ],
 "metadata": {
  "kernelspec": {
   "display_name": "Python 3 (ipykernel)",
   "language": "python",
   "name": "python3"
  },
  "language_info": {
   "codemirror_mode": {
    "name": "ipython",
    "version": 3
   },
   "file_extension": ".py",
   "mimetype": "text/x-python",
   "name": "python",
   "nbconvert_exporter": "python",
   "pygments_lexer": "ipython3",
   "version": "3.9.13"
  }
 },
 "nbformat": 4,
 "nbformat_minor": 5
}
